{
 "cells": [
  {
   "cell_type": "code",
   "execution_count": 1,
   "metadata": {},
   "outputs": [],
   "source": [
    "import numpy as np"
   ]
  },
  {
   "cell_type": "markdown",
   "metadata": {},
   "source": [
    "Améliorations possibles : \n",
    "- Prendre un autre représentant que le centroïde du cluster\n",
    "- Faire un clustering différent\n",
    "- Trouver des méthodes pour améliorer la complexité\n",
    "\n",
    "Trucs à faire : \n",
    "- Comparaison avec des algos vus en cours (matrix profile, pattern decomposition inverse)\n",
    "- fine tuning des paramètres ($l_M$ par exemple)"
   ]
  }
 ],
 "metadata": {
  "kernelspec": {
   "display_name": "map588",
   "language": "python",
   "name": "python3"
  },
  "language_info": {
   "codemirror_mode": {
    "name": "ipython",
    "version": 3
   },
   "file_extension": ".py",
   "mimetype": "text/x-python",
   "name": "python",
   "nbconvert_exporter": "python",
   "pygments_lexer": "ipython3",
   "version": "3.9.20"
  }
 },
 "nbformat": 4,
 "nbformat_minor": 2
}
